{
 "cells": [
  {
   "cell_type": "markdown",
   "metadata": {},
   "source": [
    "# Point Cloud Visualizer \n",
    "\n",
    "This notebook visualizes the first point cloud of the Portal Crane Dataset. "
   ]
  },
  {
   "cell_type": "code",
   "execution_count": null,
   "metadata": {},
   "outputs": [],
   "source": [
    "import open3d as o3d\n",
    "import os\n",
    "import glob\n",
    "\n",
    "def visualize_pcd(file_name):\n",
    "    if not file_name.lower().endswith('.pcd'):\n",
    "        print(\"Error: The file is not a .pcd file.\")\n",
    "        return\n",
    "\n",
    "    if not os.path.isfile(file_name):\n",
    "        print(\"Error: File does not exist.\")\n",
    "        return\n",
    "    try:\n",
    "        pcd = o3d.io.read_point_cloud(file_name)\n",
    "        o3d.visualization.draw_geometries([pcd],\n",
    "                                          window_name=\"Point Cloud Viewer\",\n",
    "                                          point_show_normal=False)\n",
    "    except Exception as e:\n",
    "        print(f\"An error occurred while processing the file: {e}\")\n",
    "\n",
    "pcd_files = sorted(glob.glob(os.path.join('./point_clouds/', '*.pcd')))\n",
    "visualize_pcd(pcd_files[0])"
   ]
  }
 ],
 "metadata": {
  "kernelspec": {
   "display_name": "base",
   "language": "python",
   "name": "python3"
  },
  "language_info": {
   "codemirror_mode": {
    "name": "ipython",
    "version": 3
   },
   "file_extension": ".py",
   "mimetype": "text/x-python",
   "name": "python",
   "nbconvert_exporter": "python",
   "pygments_lexer": "ipython3",
   "version": "3.9.19"
  }
 },
 "nbformat": 4,
 "nbformat_minor": 4
}
